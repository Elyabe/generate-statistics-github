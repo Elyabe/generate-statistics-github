{
 "cells": [
  {
   "cell_type": "code",
   "execution_count": 28,
   "metadata": {},
   "outputs": [
    {
     "name": "stdout",
     "output_type": "stream",
     "text": [
      "Requirement already satisfied: PyGithub in /home/ellyabsson/.local/lib/python3.8/site-packages (1.51)\n",
      "Requirement already satisfied: requests>=2.14.0 in /usr/lib/python3/dist-packages (from PyGithub) (2.22.0)\n",
      "Requirement already satisfied: pyjwt in /usr/lib/python3/dist-packages (from PyGithub) (1.7.1)\n",
      "Requirement already satisfied: deprecated in /home/ellyabsson/.local/lib/python3.8/site-packages (from PyGithub) (1.2.10)\n",
      "Requirement already satisfied: wrapt<2,>=1.10 in /home/ellyabsson/.local/lib/python3.8/site-packages (from deprecated->PyGithub) (1.12.1)\n"
     ]
    }
   ],
   "source": [
    "!pip3 install PyGithub\n",
    "# !pip3 install getpass"
   ]
  },
  {
   "cell_type": "code",
   "execution_count": 1,
   "metadata": {},
   "outputs": [],
   "source": [
    "from github import Github\n",
    "import getpass\n",
    "from functools import reduce\n",
    "import math"
   ]
  },
  {
   "cell_type": "code",
   "execution_count": 2,
   "metadata": {},
   "outputs": [
    {
     "name": "stdout",
     "output_type": "stream",
     "text": [
      "ola········\n"
     ]
    }
   ],
   "source": [
    "g = Github('<usuario>', getpass.getpass('ola') )"
   ]
  },
  {
   "cell_type": "code",
   "execution_count": 3,
   "metadata": {},
   "outputs": [
    {
     "name": "stdout",
     "output_type": "stream",
     "text": [
      "{'C': 138829, 'HTML': 35549582, 'Java': 1543522, 'Shell': 64836, 'Batchfile': 34992, 'CSS': 1601788, 'JavaScript': 2731848, 'C++': 152288, 'PLpgSQL': 59242, 'TeX': 227432, 'Makefile': 3820, 'Assembly': 4756, 'Jasmin': 347393, 'Processing': 67760, 'Python': 296453, 'PHP': 19909816, 'Jupyter Notebook': 2699927, 'TypeScript': 308089, 'TSQL': 79912, 'Hack': 57803, 'MATLAB': 13623, 'Gnuplot': 206}\n"
     ]
    }
   ],
   "source": [
    "usedLanguages = {}\n",
    "for repo in g.get_user().get_repos():\n",
    "    repoLangs = repo.get_languages()\n",
    "    for lang in repoLangs:\n",
    "        if lang in usedLanguages:\n",
    "            usedLanguages[lang] += repoLangs[lang]\n",
    "        else: \n",
    "            usedLanguages[lang] = repoLangs[lang]\n",
    "\n",
    "print(usedLanguages)"
   ]
  },
  {
   "cell_type": "code",
   "execution_count": 11,
   "metadata": {},
   "outputs": [
    {
     "data": {
      "text/plain": [
       "<github.PaginatedList.PaginatedList at 0x7f14adf15880>"
      ]
     },
     "execution_count": 11,
     "metadata": {},
     "output_type": "execute_result"
    }
   ],
   "source": [
    "for repo in g.get_user().get_repos():\n",
    "    print(repo)"
   ]
  },
  {
   "cell_type": "code",
   "execution_count": 4,
   "metadata": {},
   "outputs": [],
   "source": [
    "total = reduce(lambda x, value:x + value, usedLanguages.values(), 0)"
   ]
  },
  {
   "cell_type": "code",
   "execution_count": 5,
   "metadata": {},
   "outputs": [],
   "source": [
    "for x in usedLanguages:\n",
    "    usedLanguages[x] /= total\n",
    "    usedLanguages[x] = round(usedLanguages[x]*100,4)"
   ]
  },
  {
   "cell_type": "code",
   "execution_count": 56,
   "metadata": {},
   "outputs": [
    {
     "data": {
      "text/plain": [
       "[('HTML', 35549605),\n",
       " ('PHP', 19908450),\n",
       " ('JavaScript', 2731848),\n",
       " ('Jupyter Notebook', 2672669),\n",
       " ('CSS', 1601820),\n",
       " ('Java', 1543522),\n",
       " ('Jasmin', 347393),\n",
       " ('TypeScript', 303203),\n",
       " ('Python', 296453),\n",
       " ('TeX', 227432),\n",
       " ('C++', 152288),\n",
       " ('C', 138829),\n",
       " ('TSQL', 79912),\n",
       " ('Processing', 67760),\n",
       " ('Shell', 64836),\n",
       " ('PLpgSQL', 59242),\n",
       " ('Hack', 57803),\n",
       " ('Batchfile', 34992),\n",
       " ('MATLAB', 13623),\n",
       " ('Assembly', 4756),\n",
       " ('Makefile', 3820),\n",
       " ('Gnuplot', 206)]"
      ]
     },
     "execution_count": 56,
     "metadata": {},
     "output_type": "execute_result"
    }
   ],
   "source": [
    "sort_orders"
   ]
  },
  {
   "cell_type": "code",
   "execution_count": 6,
   "metadata": {},
   "outputs": [
    {
     "data": {
      "text/plain": [
       "[('HTML', 53.9497),\n",
       " ('PHP', 30.215),\n",
       " ('JavaScript', 4.1458),\n",
       " ('Jupyter Notebook', 4.0974),\n",
       " ('CSS', 2.4309),\n",
       " ('Java', 2.3424),\n",
       " ('Jasmin', 0.5272),\n",
       " ('TypeScript', 0.4676),\n",
       " ('Python', 0.4499),\n",
       " ('TeX', 0.3451),\n",
       " ('C++', 0.2311),\n",
       " ('C', 0.2107),\n",
       " ('TSQL', 0.1213),\n",
       " ('Processing', 0.1028),\n",
       " ('Shell', 0.0984),\n",
       " ('PLpgSQL', 0.0899),\n",
       " ('Hack', 0.0877),\n",
       " ('Batchfile', 0.0531),\n",
       " ('MATLAB', 0.0207),\n",
       " ('Assembly', 0.0072),\n",
       " ('Makefile', 0.0058),\n",
       " ('Gnuplot', 0.0003)]"
      ]
     },
     "execution_count": 6,
     "metadata": {},
     "output_type": "execute_result"
    }
   ],
   "source": [
    "sort_orders = sorted(usedLanguages.items(), key=lambda x: x[1], reverse=True)\n",
    "sort_orders"
   ]
  },
  {
   "cell_type": "code",
   "execution_count": 10,
   "metadata": {
    "scrolled": true
   },
   "outputs": [
    {
     "name": "stdout",
     "output_type": "stream",
     "text": [
      "| Language | usage |\n",
      "| -------------- | :--------- |\n",
      "- HTML (53.9497%)             ██████████████████████████████████████████████████████|\n",
      "- PHP (030.215%)              ███████████████████████████████|\n",
      "- JavaScript (04.1458%)       █████|\n",
      "- Jupyter Notebook (04.0974%) █████|\n",
      "- CSS (02.4309%)              ███|\n",
      "- Java (02.3424%)             ███|\n",
      "- Jasmin (00.5272%)           █|\n",
      "- TypeScript (00.4676%)       █|\n",
      "- Python (00.4499%)           █|\n",
      "- TeX (00.3451%)              █|\n",
      "- C++ (00.2311%)              █|\n",
      "- C (00.2107%)                █|\n",
      "- TSQL (00.1213%)             █|\n",
      "- Processing (00.1028%)       █|\n",
      "- Shell (00.0984%)            █|\n",
      "- PLpgSQL (00.0899%)          █|\n",
      "- Hack (00.0877%)             █|\n",
      "- Batchfile (00.0531%)        █|\n",
      "- MATLAB (00.0207%)           █|\n",
      "- Assembly (00.0072%)         █|\n",
      "- Makefile (00.0058%)         █|\n",
      "- Gnuplot (00.0003%)          █|\n"
     ]
    }
   ],
   "source": [
    "size = len(max(usedLanguages, key=lambda x: len(x)))\n",
    "size\n",
    "print('| Language | usage |')\n",
    "print('| -------------- | :--------- |')\n",
    "for pair in sort_orders:\n",
    "    line = '| {language} ({percent})% |'.format(language=pair[0].lower(),percent= str(pair[1]).zfill(7) ) \n",
    "    line = '- ' + pair[0] + ' (' + str(pair[1]).zfill(7) +'%) ' \n",
    "    \n",
    "    sizeRest = size - len(pair[0])\n",
    "    line += ' '*sizeRest\n",
    "    line += '█'*math.ceil(pair[1])  + '|'\n",
    "    print(line)\n",
    "\n",
    "\n"
   ]
  },
  {
   "cell_type": "code",
   "execution_count": null,
   "metadata": {},
   "outputs": [],
   "source": []
  }
 ],
 "metadata": {
  "kernelspec": {
   "display_name": "Python 3",
   "language": "python",
   "name": "python3"
  },
  "language_info": {
   "codemirror_mode": {
    "name": "ipython",
    "version": 3
   },
   "file_extension": ".py",
   "mimetype": "text/x-python",
   "name": "python",
   "nbconvert_exporter": "python",
   "pygments_lexer": "ipython3",
   "version": "3.8.2"
  }
 },
 "nbformat": 4,
 "nbformat_minor": 4
}
